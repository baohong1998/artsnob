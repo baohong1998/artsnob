{
 "cells": [
  {
   "cell_type": "code",
   "execution_count": null,
   "metadata": {},
   "outputs": [],
   "source": []
  },
  {
   "cell_type": "code",
   "execution_count": 1,
   "metadata": {},
   "outputs": [],
   "source": [
    "import csv\n",
    "import pandas as pd"
   ]
  },
  {
   "cell_type": "code",
   "execution_count": 2,
   "metadata": {},
   "outputs": [],
   "source": [
    "data = open('wikiart.data').readlines()\n",
    "\n",
    "lenData = len(data)\n"
   ]
  },
  {
   "cell_type": "code",
   "execution_count": 4,
   "metadata": {},
   "outputs": [],
   "source": [
    "columns_name = data[0]\n"
   ]
  },
  {
   "cell_type": "code",
   "execution_count": 5,
   "metadata": {},
   "outputs": [
    {
     "name": "stdout",
     "output_type": "stream",
     "text": [
      "contentId,url,style,genre,artistContentId,artistUrl\n",
      "\n"
     ]
    }
   ],
   "source": [
    "print(columns_name)\n"
   ]
  },
  {
   "cell_type": "code",
   "execution_count": 6,
   "metadata": {},
   "outputs": [],
   "source": [
    "columns_data = columns_name.strip().split(\",\")\n"
   ]
  },
  {
   "cell_type": "code",
   "execution_count": 7,
   "metadata": {},
   "outputs": [
    {
     "name": "stdout",
     "output_type": "stream",
     "text": [
      "['contentId', 'url', 'style', 'genre', 'artistContentId', 'artistUrl']\n"
     ]
    }
   ],
   "source": [
    "print(columns_data)\n"
   ]
  },
  {
   "cell_type": "code",
   "execution_count": 8,
   "metadata": {},
   "outputs": [
    {
     "name": "stdout",
     "output_type": "stream",
     "text": [
      "2394\n"
     ]
    }
   ],
   "source": [
    "print(lenData)\n"
   ]
  },
  {
   "cell_type": "code",
   "execution_count": null,
   "metadata": {},
   "outputs": [],
   "source": []
  },
  {
   "cell_type": "code",
   "execution_count": null,
   "metadata": {},
   "outputs": [],
   "source": []
  },
  {
   "cell_type": "code",
   "execution_count": 10,
   "metadata": {},
   "outputs": [
    {
     "name": "stdout",
     "output_type": "stream",
     "text": [
      "     contentId                                url             style  \\\n",
      "0       337208              \"no-great-crime-1983\"      \"Street art\"   \n",
      "1       337204                          \"3d-1984\"      \"Street art\"   \n",
      "2       337213                  \"wild-bunch-1984\"      \"Street art\"   \n",
      "3       337210                 \"serious-art-1986\"      \"Street art\"   \n",
      "4       337209  \"robert-de-niro-taxi-driver-1988\"      \"Street art\"   \n",
      "...        ...                                ...               ...   \n",
      "2264    330183               \"corte-secreto-1981\"  \"Conceptual Art\"   \n",
      "2265    330182                   \"the-house-1984\"  \"Conceptual Art\"   \n",
      "2266    330195                        \"voar-2001\"  \"Conceptual Art\"   \n",
      "2267    330190                     \"seduzir-2002\"  \"Conceptual Art\"   \n",
      "2268    330191                   \"seduzir-2002-1\"  \"Conceptual Art\"   \n",
      "\n",
      "           genre artistContentId         artistUrl  \n",
      "0     \"graffiti\"          335710              \"3d\"  \n",
      "1     \"graffiti\"          335710              \"3d\"  \n",
      "2     \"graffiti\"          335710              \"3d\"  \n",
      "3     \"graffiti\"          335710              \"3d\"  \n",
      "4     \"graffiti\"          335710              \"3d\"  \n",
      "...          ...             ...               ...  \n",
      "2264                      330145  \"helena-almeida\"  \n",
      "2265                      330145  \"helena-almeida\"  \n",
      "2266     \"photo\"          330145  \"helena-almeida\"  \n",
      "2267     \"photo\"          330145  \"helena-almeida\"  \n",
      "2268     \"photo\"          330145  \"helena-almeida\"  \n",
      "\n",
      "[2269 rows x 6 columns]\n"
     ]
    }
   ],
   "source": [
    "newlines=[]\n",
    "\n",
    "for i in range(1,lenData):\n",
    "    line = data[i].strip().split(\",\")\n",
    "\n",
    "    if len(line) <= 6:\n",
    "        newlines.append(line)\n",
    "df_data = pd.DataFrame(newlines, columns=columns_data)\n",
    "print(df_data)\n",
    "   \n",
    "\n"
   ]
  },
  {
   "cell_type": "code",
   "execution_count": null,
   "metadata": {},
   "outputs": [],
   "source": [
    "export = df_data.to_csv(r'./dataset.csv')"
   ]
  },
  {
   "cell_type": "code",
   "execution_count": null,
   "metadata": {},
   "outputs": [],
   "source": []
  },
  {
   "cell_type": "code",
   "execution_count": null,
   "metadata": {},
   "outputs": [],
   "source": []
  },
  {
   "cell_type": "code",
   "execution_count": null,
   "metadata": {},
   "outputs": [],
   "source": []
  }
 ],
 "metadata": {
  "kernelspec": {
   "display_name": "Python 3",
   "language": "python",
   "name": "python3"
  },
  "language_info": {
   "codemirror_mode": {
    "name": "ipython",
    "version": 3
   },
   "file_extension": ".py",
   "mimetype": "text/x-python",
   "name": "python",
   "nbconvert_exporter": "python",
   "pygments_lexer": "ipython3",
   "version": "3.7.4"
  }
 },
 "nbformat": 4,
 "nbformat_minor": 2
}
